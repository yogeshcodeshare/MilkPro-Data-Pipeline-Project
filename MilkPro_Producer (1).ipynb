{
 "cells": [
  {
   "cell_type": "code",
   "execution_count": 6,
   "id": "50a9e79b",
   "metadata": {},
   "outputs": [
    {
     "name": "stdout",
     "output_type": "stream",
     "text": [
      "\u001b[33mCache entry deserialization failed, entry ignored\u001b[0m\n",
      "Collecting pip\n",
      "  Using cached https://files.pythonhosted.org/packages/fa/ee/74ff76da0ab649eec7581233daeb43d8aa35383d8f75317b2ab3b80c922f/pip-23.1.2.tar.gz\n",
      "    Complete output from command python setup.py egg_info:\n",
      "    Traceback (most recent call last):\n",
      "      File \"<string>\", line 1, in <module>\n",
      "      File \"/tmp/pip-build-rBb472/pip/setup.py\", line 7\n",
      "        def read(rel_path: str) -> str:\n",
      "                         ^\n",
      "    SyntaxError: invalid syntax\n",
      "    \n",
      "    ----------------------------------------\n",
      "\u001b[31mCommand \"python setup.py egg_info\" failed with error code 1 in /tmp/pip-build-rBb472/pip/\u001b[0m\n",
      "\u001b[33mYou are using pip version 8.1.2, however version 23.1.2 is available.\n",
      "You should consider upgrading via the 'pip install --upgrade pip' command.\u001b[0m\n"
     ]
    }
   ],
   "source": [
    "!pip install --upgrade pip"
   ]
  },
  {
   "cell_type": "code",
   "execution_count": 2,
   "id": "b65626e1",
   "metadata": {},
   "outputs": [
    {
     "name": "stdout",
     "output_type": "stream",
     "text": [
      "Requirement already satisfied (use --upgrade to upgrade): kafka in /home/itv007039/.local/lib/python2.7/site-packages\n",
      "\u001b[33mYou are using pip version 8.1.2, however version 23.1.2 is available.\n",
      "You should consider upgrading via the 'pip install --upgrade pip' command.\u001b[0m\n"
     ]
    }
   ],
   "source": [
    "!pip install --user kafka"
   ]
  },
  {
   "cell_type": "code",
   "execution_count": 4,
   "id": "c76b6801",
   "metadata": {},
   "outputs": [
    {
     "name": "stdout",
     "output_type": "stream",
     "text": [
      "Collecting pyspark==3.1.2\n",
      "  Downloading https://files.pythonhosted.org/packages/89/db/e18cfd78e408de957821ec5ca56de1250645b05f8523d169803d8df35a64/pyspark-3.1.2.tar.gz (212.4MB)\n",
      "\u001b[K    100% |████████████████████████████████| 212.4MB 8.2kB/s  eta 0:00:01\n",
      "\u001b[?25h    Complete output from command python setup.py egg_info:\n",
      "    Traceback (most recent call last):\n",
      "      File \"<string>\", line 1, in <module>\n",
      "      File \"/tmp/pip-build-p_J6Q4/pyspark/setup.py\", line 31\n",
      "        file=sys.stderr)\n",
      "            ^\n",
      "    SyntaxError: invalid syntax\n",
      "    \n",
      "    ----------------------------------------\n",
      "\u001b[31mCommand \"python setup.py egg_info\" failed with error code 1 in /tmp/pip-build-p_J6Q4/pyspark/\u001b[0m\n",
      "\u001b[33mYou are using pip version 8.1.2, however version 23.1.2 is available.\n",
      "You should consider upgrading via the 'pip install --upgrade pip' command.\u001b[0m\n"
     ]
    }
   ],
   "source": [
    "!pip install pyspark==3.7"
   ]
  },
  {
   "cell_type": "code",
   "execution_count": 4,
   "id": "053f2901",
   "metadata": {},
   "outputs": [
    {
     "name": "stdout",
     "output_type": "stream",
     "text": [
      "Collecting faker\n",
      "  Using cached https://files.pythonhosted.org/packages/c3/97/d7f0b25e181738b24e25092acc160bf30c682da6ab961e28f839a5f862b2/Faker-18.11.2.tar.gz\n",
      "    Complete output from command python setup.py egg_info:\n",
      "    Traceback (most recent call last):\n",
      "      File \"<string>\", line 1, in <module>\n",
      "      File \"/tmp/pip-build-qFVSGa/faker/setup.py\", line 3, in <module>\n",
      "        from pathlib import Path\n",
      "    ImportError: No module named pathlib\n",
      "    \n",
      "    ----------------------------------------\n",
      "\u001b[31mCommand \"python setup.py egg_info\" failed with error code 1 in /tmp/pip-build-qFVSGa/faker/\u001b[0m\n",
      "\u001b[33mYou are using pip version 8.1.2, however version 23.1.2 is available.\n",
      "You should consider upgrading via the 'pip install --upgrade pip' command.\u001b[0m\n"
     ]
    }
   ],
   "source": [
    "!pip install --user faker"
   ]
  },
  {
   "cell_type": "code",
   "execution_count": 3,
   "id": "62b46dd0",
   "metadata": {},
   "outputs": [
    {
     "name": "stdout",
     "output_type": "stream",
     "text": [
      "Collecting faker\n",
      "  Downloading Faker-14.2.1-py3-none-any.whl (1.6 MB)\n",
      "     |████████████████████████████████| 1.6 MB 17.7 MB/s            \n",
      "\u001b[?25hRequirement already satisfied: python-dateutil>=2.4 in /opt/anaconda3/envs/beakerx/lib/python3.6/site-packages (from faker) (2.8.1)\n",
      "Requirement already satisfied: typing-extensions>=3.7.4.3 in /opt/anaconda3/envs/beakerx/lib/python3.6/site-packages (from faker) (3.10.0.0)\n",
      "Requirement already satisfied: six>=1.5 in /opt/anaconda3/envs/beakerx/lib/python3.6/site-packages (from python-dateutil>=2.4->faker) (1.16.0)\n",
      "Installing collected packages: faker\n",
      "\u001b[33m  WARNING: The script faker is installed in '/home/itv007039/.local/bin' which is not on PATH.\n",
      "  Consider adding this directory to PATH or, if you prefer to suppress this warning, use --no-warn-script-location.\u001b[0m\n",
      "Successfully installed faker-14.2.1\n",
      "Note: you may need to restart the kernel to use updated packages.\n"
     ]
    }
   ],
   "source": [
    "pip install --user faker"
   ]
  },
  {
   "cell_type": "code",
   "execution_count": 2,
   "id": "26f6720c",
   "metadata": {},
   "outputs": [],
   "source": [
    "from pyspark.sql import SparkSession\n",
    "spark = SparkSession.builder.appName(\"kafka_producer\").getOrCreate()"
   ]
  },
  {
   "cell_type": "code",
   "execution_count": 3,
   "id": "fe61effd",
   "metadata": {},
   "outputs": [],
   "source": [
    "# Producer\n",
    "from kafka import KafkaProducer\n",
    "from faker import Faker\n",
    "import random\n",
    "import time\n",
    "\n",
    "# Kafka server and topic information\n",
    "bootstrap_servers = 'w01.itversity.com:9092'\n",
    "topic = 'MilkPro_Data_Pipeline1'\n",
    "\n",
    "# Create a Kafka producer\n",
    "producer = KafkaProducer(bootstrap_servers=bootstrap_servers)\n",
    "\n",
    "fake = Faker()\n",
    "\n",
    "# Define the areas manually\n",
    "areas = [\"Karad\", \"Navarasta\", \"Patan\", \"Koyana\"]\n",
    "\n",
    "# Define farm IDs for each area\n",
    "farm_ids = {\n",
    "    \"Karad\": [f\"KAR{id}\" for id in range(1, 100)],\n",
    "    \"Navarasta\": [f\"NAV{id}\" for id in range(101, 200)],\n",
    "    \"Patan\": [f\"PAT{id}\" for id in range(201, 300)],\n",
    "    \"Koyana\": [f\"KOY{id}\" for id in range(301, 400)]\n",
    "}\n",
    "\n",
    "# Global counter for data producer\n",
    "data_counter = 0\n",
    "\n",
    "# Generate and send 1000 rows of data every minute\n",
    "for _ in range(1):\n",
    "    for _ in range(1000):\n",
    "        # Generate random milk properties\n",
    "        id = fake.random_int(min=1, max=1000)\n",
    "\n",
    "        # Generate random area\n",
    "        area = random.choice(areas)\n",
    "\n",
    "        # Select a farm ID from the list specific to the area\n",
    "        farm_id = random.choice(farm_ids[area])\n",
    "\n",
    "        # Generate timestamp within the last 3 months\n",
    "        timestamp = fake.date_between(start_date='-3M', end_date='today').strftime('%d-%m-%Y')\n",
    "\n",
    "        fat_percentage = format(fake.random.uniform(0.0, 9.0), '.2f')\n",
    "        protein_percentage = format(fake.random.uniform(3.0, 4.2), '.2f')\n",
    "        lactose_percentage = format(fake.random.uniform(4.5, 5.8), '.2f')\n",
    "        temp = fake.random_int(min=50, max=100)\n",
    "\n",
    "        # Generate Batch IDs for Morning and Evening procurement\n",
    "        period = [\"M\", \"E\"]\n",
    "        batch_ids = []\n",
    "        for p in period:\n",
    "            batch_id = f\"{p}_{farm_id}_{timestamp}\"\n",
    "            batch_ids.append(batch_id)\n",
    "\n",
    "        # Select a random batch ID\n",
    "        batch_id = random.choice(batch_ids)\n",
    "        \n",
    "        #debug\n",
    "        #data_id = data_counter + 1\n",
    "        #data_counter += 1\n",
    "        #print(f\"-------------{data_id}---------\")\n",
    "\n",
    "        # Create a string message with the milk properties\n",
    "        #message = f\"{id},{fat_percentage},{protein_percentage},{lactose_percentage},{temp},{farm_id},{batch_id},{timestamp}\"\n",
    "\n",
    "        message = f\"{id},{batch_id},{farm_id},{area},{timestamp},{fat_percentage},{protein_percentage},{lactose_percentage},{temp}\"\n",
    "        #print(message)\n",
    "\n",
    "        # Send the message to Kafka\n",
    "        producer.send(topic, message.encode('utf-8'))\n",
    "\n",
    "    # Flush the messages to ensure they are sent immediately\n",
    "    producer.flush()\n",
    "\n",
    "    # Sleep for 2 minutes\n",
    "    time.sleep(60)\n",
    "\n",
    "# Close the Kafka producer\n",
    "producer.close()"
   ]
  }
 ],
 "metadata": {
  "kernelspec": {
   "display_name": "Pyspark 3",
   "language": "python",
   "name": "pyspark3"
  },
  "language_info": {
   "codemirror_mode": {
    "name": "ipython",
    "version": 3
   },
   "file_extension": ".py",
   "mimetype": "text/x-python",
   "name": "python",
   "nbconvert_exporter": "python",
   "pygments_lexer": "ipython3",
   "version": "3.6.12"
  }
 },
 "nbformat": 4,
 "nbformat_minor": 5
}
